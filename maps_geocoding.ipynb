{
 "cells": [
  {
   "cell_type": "code",
   "execution_count": 3,
   "metadata": {},
   "outputs": [
    {
     "data": {
      "text/plain": [
       "[40.7259481, -74.0077689, 10013]"
      ]
     },
     "execution_count": 3,
     "metadata": {},
     "output_type": "execute_result"
    }
   ],
   "source": [
    "# API call full example\n",
    "#https://maps.googleapis.com/maps/api/geocode/json?address=303+Spring+Street,+New+York,+NY&key='your-key-here'\n",
    "\n",
    "import urllib\n",
    "import json, time\n",
    "\n",
    "def GoogGeocoding(address, api_key='', delay=5):\n",
    "    url = 'https://maps.googleapis.com/maps/api/geocode/json?'\n",
    "    add_parse = 'address=' + address.replace(' ', '+')\n",
    "    API_call = url + add_parse + '&key=' + api_key\n",
    "    response = urllib.request.urlopen(API_call)\n",
    "    json_raw = response.read()\n",
    "    json_data = json.loads(json_raw)\n",
    "    coord_list = []\n",
    "    if json_data['status'] == 'OK':\n",
    "        data_back = json_data['results'][0]\n",
    "        post_code = -1\n",
    "        for each in data_back['address_components']:\n",
    "            if each['types'][0] == 'postal_code':\n",
    "                post_code = each['long_name']\n",
    "                coord_list = [data_back['geometry']['location']['lat'], data_back['geometry']['location']['lng'], int(post_code)]\n",
    "            else:\n",
    "                coord_list = [None, None, None]\n",
    "            #time.sleep(delay) # max request per day 100,000. look max req per hour if available\n",
    "    return coord_list\n",
    "  \n",
    "wrong_lat_lng = '303 Spring Street, New York, NY'\n",
    "#wrong_lat_lng = '55 Hudson Yards, New York, NY'\n",
    "\n",
    "key='your-key-here'\n",
    "\n",
    "GoogGeocoding(address=wrong_lat_lng, api_key=key, delay=0)"
   ]
  },
  {
   "cell_type": "code",
   "execution_count": null,
   "metadata": {},
   "outputs": [],
   "source": []
  }
 ],
 "metadata": {
  "kernelspec": {
   "display_name": "Python 3",
   "language": "python",
   "name": "python3"
  },
  "language_info": {
   "codemirror_mode": {
    "name": "ipython",
    "version": 3
   },
   "file_extension": ".py",
   "mimetype": "text/x-python",
   "name": "python",
   "nbconvert_exporter": "python",
   "pygments_lexer": "ipython3",
   "version": "3.6.7"
  }
 },
 "nbformat": 4,
 "nbformat_minor": 2
}
